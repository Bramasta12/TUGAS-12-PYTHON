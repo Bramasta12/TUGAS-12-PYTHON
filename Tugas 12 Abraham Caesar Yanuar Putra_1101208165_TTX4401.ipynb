{
  "nbformat": 4,
  "nbformat_minor": 0,
  "metadata": {
    "colab": {
      "name": "Untitled6.ipynb",
      "provenance": [],
      "authorship_tag": "ABX9TyNRaTLwKF9NHE1cqW2s92Uj",
      "include_colab_link": true
    },
    "kernelspec": {
      "name": "python3",
      "display_name": "Python 3"
    }
  },
  "cells": [
    {
      "cell_type": "markdown",
      "metadata": {
        "id": "view-in-github",
        "colab_type": "text"
      },
      "source": [
        "<a href=\"https://colab.research.google.com/github/Bramasta12/TUGAS-12-PYTHON/blob/main/Tugas%2012%20Abraham%20Caesar%20Yanuar%20Putra_1101208165_TTX4401.ipynb\" target=\"_parent\"><img src=\"https://colab.research.google.com/assets/colab-badge.svg\" alt=\"Open In Colab\"/></a>"
      ]
    },
    {
      "cell_type": "code",
      "metadata": {
        "id": "x1XrQjNW50ka"
      },
      "source": [
        "# Name : Abraham Caesar Yanuar Putra\r\n",
        "# NIM : 1101208165\r\n",
        "# Class : TTX 44-01"
      ],
      "execution_count": null,
      "outputs": []
    },
    {
      "cell_type": "code",
      "metadata": {
        "id": "NYrcp-r257Td"
      },
      "source": [
        "import numpy as np"
      ],
      "execution_count": null,
      "outputs": []
    },
    {
      "cell_type": "code",
      "metadata": {
        "id": "xa5tbuQZ6CAk"
      },
      "source": [
        "NtL = lambda x: 10*np.log10(x)"
      ],
      "execution_count": null,
      "outputs": []
    },
    {
      "cell_type": "code",
      "metadata": {
        "colab": {
          "base_uri": "https://localhost:8080/"
        },
        "id": "-0wWgQQG6FZU",
        "outputId": "26582101-761f-4caf-dbb2-a97cc6fe1cad"
      },
      "source": [
        "z=NtL(100)\r\n",
        "print(z)"
      ],
      "execution_count": null,
      "outputs": [
        {
          "output_type": "stream",
          "text": [
            "20.0\n"
          ],
          "name": "stdout"
        }
      ]
    },
    {
      "cell_type": "code",
      "metadata": {
        "id": "ub37wHK36JUE"
      },
      "source": [
        "LtN = lambda x: 10**(x/10)"
      ],
      "execution_count": null,
      "outputs": []
    },
    {
      "cell_type": "code",
      "metadata": {
        "colab": {
          "base_uri": "https://localhost:8080/"
        },
        "id": "XlxF_1726LNN",
        "outputId": "7477eebe-37cc-47a3-d591-734717ee816f"
      },
      "source": [
        "y=LtN(100)\r\n",
        "print(y)"
      ],
      "execution_count": null,
      "outputs": [
        {
          "output_type": "stream",
          "text": [
            "10000000000.0\n"
          ],
          "name": "stdout"
        }
      ]
    },
    {
      "cell_type": "code",
      "metadata": {
        "colab": {
          "base_uri": "https://localhost:8080/"
        },
        "id": "aR7NYT086M3F",
        "outputId": "b59dd859-307c-4c4d-c8b3-2a4007b8639c"
      },
      "source": [
        "# Daerah Suburban\r\n",
        "Lp = 46.3  + (33.9*np.log10(1750)) - (13.83*np.log10(40)) - ((((1.1*np.log10(1750))-0.7)*10) - ((1.56*np.log10(1750))-0.8)) + ((44.9-(6.55*np.log10(40)))*np.log10(5)) + (-11.8082)\r\n",
        "print(Lp)"
      ],
      "execution_count": null,
      "outputs": [
        {
          "output_type": "stream",
          "text": [
            "121.90913737748107\n"
          ],
          "name": "stdout"
        }
      ]
    },
    {
      "cell_type": "code",
      "metadata": {
        "colab": {
          "base_uri": "https://localhost:8080/"
        },
        "id": "aZ_ZTQWp6PDG",
        "outputId": "3f018dfd-36f0-4a4d-d16e-43d421d0b222"
      },
      "source": [
        "# Daerah Urban\r\n",
        "Lp = 46.3  + (33.9*np.log10(1750)) - (13.83*np.log10(40)) - ((((1.1*np.log10(1750))-0.7)*10) - ((1.56*np.log10(1750))-0.8)) + ((44.9-(6.55*np.log10(40)))*np.log10(5)) + (0)\r\n",
        "print(Lp)"
      ],
      "execution_count": null,
      "outputs": [
        {
          "output_type": "stream",
          "text": [
            "133.71733737748107\n"
          ],
          "name": "stdout"
        }
      ]
    },
    {
      "cell_type": "code",
      "metadata": {
        "colab": {
          "base_uri": "https://localhost:8080/"
        },
        "id": "-zsE24kA6Rcl",
        "outputId": "79f7fc1b-3253-433c-fbbc-225da45591ba"
      },
      "source": [
        "# Daerah Open\r\n",
        "Lp = 46.3  + (33.9*np.log10(1750)) - (13.83*np.log10(40)) - ((((1.1*np.log10(1750))-0.7)*10) - ((1.56*np.log10(1750))-0.8)) + ((44.9-(6.55*np.log10(40)))*np.log10(5)) + (-31.7677)\r\n",
        "print(Lp)"
      ],
      "execution_count": null,
      "outputs": [
        {
          "output_type": "stream",
          "text": [
            "101.94963737748107\n"
          ],
          "name": "stdout"
        }
      ]
    },
    {
      "cell_type": "code",
      "metadata": {
        "id": "vK56xV8_6THQ"
      },
      "source": [
        "def ploss (d, f, cm, ht, hr):\r\n",
        "  pldb= 46.3 + (33.9*np.log10(f)) - (13.83*np.log10(ht)) - ((((1.1*np.log10(f)) - 0.7) * hr) - ((1.56*np.log10(f)) - 0.8)) + ((44.9 - (6.55*np.log10(ht)))*np.log10(d)) + cm\r\n",
        "  plnum=LtN(-pldb)\r\n",
        "  return pldb,plnum"
      ],
      "execution_count": null,
      "outputs": []
    },
    {
      "cell_type": "code",
      "metadata": {
        "colab": {
          "base_uri": "https://localhost:8080/"
        },
        "id": "BBLA5W3E6Wk9",
        "outputId": "1a69eddf-8fc9-4f63-92f8-9584ad4fd87d"
      },
      "source": [
        "# Daerah Suburban\r\n",
        "pathlossdb, pathlossnum = ploss(5, 1750, -11.8082, 40, 10)\r\n",
        "print(\"pathloss dalam db =\",pathlossdb,\"dB\")\r\n",
        "print(\"pathloss dalam numerik =\",pathlossnum,\"kali\")"
      ],
      "execution_count": null,
      "outputs": [
        {
          "output_type": "stream",
          "text": [
            "pathloss dalam db = 121.90913737748107 dB\n",
            "pathloss dalam numerik = 6.442972271004683e-13 kali\n"
          ],
          "name": "stdout"
        }
      ]
    },
    {
      "cell_type": "code",
      "metadata": {
        "colab": {
          "base_uri": "https://localhost:8080/"
        },
        "id": "Zg15RKhg6YfP",
        "outputId": "06322f40-4a0b-44fe-f4db-e968e8b43d8d"
      },
      "source": [
        "# Daerah Urban\r\n",
        "pathlossdb, pathlossnum = ploss(5, 1750, 0, 40, 10)\r\n",
        "print(\"pathloss dalam db =\",pathlossdb,\"dB\")\r\n",
        "print(\"pathloss dalam numerik =\",pathlossnum,\"kali\")"
      ],
      "execution_count": null,
      "outputs": [
        {
          "output_type": "stream",
          "text": [
            "pathloss dalam db = 133.71733737748107 dB\n",
            "pathloss dalam numerik = 4.2487997440788266e-14 kali\n"
          ],
          "name": "stdout"
        }
      ]
    },
    {
      "cell_type": "code",
      "metadata": {
        "id": "m99n2ZpM6bgF",
        "colab": {
          "base_uri": "https://localhost:8080/"
        },
        "outputId": "d04ead4f-fc04-4315-dfbb-99303298c993"
      },
      "source": [
        "# Daerah Open\r\n",
        "pathlossdb, pathlossnum = ploss(5, 1750, -31.7677, 40, 10)\r\n",
        "print(\"pathloss dalam db =\",pathlossdb,\"dB\")\r\n",
        "print(\"pathloss dalam numerik =\",pathlossnum,\"kali\")"
      ],
      "execution_count": null,
      "outputs": [
        {
          "output_type": "stream",
          "text": [
            "pathloss dalam db = 101.94963737748107 dB\n",
            "pathloss dalam numerik = 6.383167814511705e-11 kali\n"
          ],
          "name": "stdout"
        }
      ]
    }
  ]
}